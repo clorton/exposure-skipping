{
 "cells": [
  {
   "cell_type": "markdown",
   "metadata": {},
   "source": [
    "# EMOD Pseudocode\n",
    "\n",
    "_Indented_ code under commented out functions is the pseudocode for the function. E.g., `updateInfectivity(dt)` calls `computeMaxInfectionProb(dt)` and `gap = calcGap()`.\n",
    "\n",
    "```cpp\n",
    "void Node::Update(float dt) {\n",
    "    ...\n",
    "    // updateInfectivity(dt);\n",
    "        // computeMaxInfectionProb( dt );\n",
    "            ProbabilityNumber prob = EXPCDF(-contagion * dt);\n",
    "            gap = 1;           // default to visiting every individual\n",
    "            bSkipping = false; // default to visiting (!skipping) every individual\n",
    "        // gap = calcGap();\n",
    "            int gap = 1;\n",
    "            float maxProb = prob;\n",
    "            if (maxProb >= 1.0) {\n",
    "                gap = 1;\n",
    "            }\n",
    "            else if (maxProb > 0.0) {\n",
    "                // geometric based on maxProb\n",
    "                gap = int(ceil(log(1.0 - GetRng()->e()) / log(1.0 - maxProb)));\t\n",
    "\n",
    "    ...\n",
    "    for (int i = 0; i < individualHumans.size(); ++i ) {\n",
    "    \t// PreUpdate();\n",
    "            if (gap == 1) {\n",
    "                bSkipping = false;  // visit this individual\n",
    "                gap = calcGap();    // update gap (see above)\n",
    "            }\n",
    "            else {\n",
    "                bSkipping = true;   // skip this individual\n",
    "                --gap;              // decrement gap counter\n",
    "            }\n",
    "        // individualHumans[i]->Update(...);\n",
    "            // ExposeToInfectivity(...);\n",
    "                // parent->ExposeIndividual(...);\n",
    "                    if (!bSkipping) {\n",
    "                        // transmissionGroups->ExposeToContagion(...);\n",
    "                            // candidate->Expose(...);\n",
    "                                auto indProb = -cp->GetTotalContagion() * dt;\n",
    "                                indProb *= susceptibility->getModAcquire();\n",
    "                                indProb *= susceptibility->getModRisk();\n",
    "                                indProb *= interventions->GetInterventionReducedAcquire(...);\n",
    "                                indProb = EXPCDF(indProb);\n",
    "                                bool acquire = false;\n",
    "                                float maxProb = parent->GetMaxInfectionProb(...);\n",
    "                                if (maxProb > 0) {\n",
    "                                    // if individual is maximally susceptible\n",
    "                                    if (maxProb == prob) {\n",
    "                                        acquire = true;\n",
    "                                    }\n",
    "                                    // if individual is _not_ maximally susceptible\n",
    "                                    else if (prob/maxProb > GetRng()->e()) {\n",
    "                                        acquire = true;\n",
    "                                    }\n",
    "                                }\n",
    "                    }\n",
    "    }\n",
    "    ...\n",
    "}\n",
    "\n",
    "#define EXPCDF(x)   (1 - exp(x))\n",
    "```"
   ]
  },
  {
   "cell_type": "code",
   "execution_count": null,
   "metadata": {},
   "outputs": [],
   "source": [
    "# might be necessay on a fresh Codespace\n",
    "%pip install numba"
   ]
  },
  {
   "cell_type": "code",
   "execution_count": 1,
   "metadata": {},
   "outputs": [],
   "source": [
    "import numpy as np\n",
    "import numba as nb"
   ]
  },
  {
   "cell_type": "code",
   "execution_count": 3,
   "metadata": {},
   "outputs": [],
   "source": [
    "@nb.njit()\n",
    "def skip(probability: np.float32) -> np.uint32:\n",
    "    n = np.uint32(np.ceil(np.log(1.0-np.random.rand())/np.log(1.0-probability))) if probability < 1.0 else np.uint32(1)\n",
    "    return n"
   ]
  },
  {
   "cell_type": "code",
   "execution_count": 27,
   "metadata": {},
   "outputs": [],
   "source": [
    "@nb.njit()\n",
    "def visit(susceptibility: np.ndarray, probability: np.float32) -> np.uint32:\n",
    "    visited = 0\n",
    "    index = skip(probability) - 1\n",
    "    while (index >= 0) and (index < len(susceptibility)):\n",
    "        if susceptibility[index] == 1.0:\n",
    "            visited += 1\n",
    "        elif np.random.rand() < susceptibility[index]:\n",
    "            visited += 1\n",
    "        index += skip(probability)\n",
    "    return visited"
   ]
  },
  {
   "cell_type": "code",
   "execution_count": 64,
   "metadata": {},
   "outputs": [],
   "source": [
    "susceptibility = np.ones(1_000_000, dtype=np.float32)"
   ]
  },
  {
   "cell_type": "code",
   "execution_count": 65,
   "metadata": {},
   "outputs": [],
   "source": [
    "# randomize susceptibility uniformly between 0 and 1\n",
    "susceptibility *= np.random.uniform(0.0, 1.0, size=susceptibility.shape)"
   ]
  },
  {
   "cell_type": "code",
   "execution_count": 68,
   "metadata": {},
   "outputs": [
    {
     "data": {
      "text/plain": [
       "array([0.4846219 , 0.7550575 , 0.26625404, 0.5665095 , 0.5553552 ,\n",
       "       0.76844317, 0.62275714, 0.01168378, 0.52227485, 0.95538485,\n",
       "       0.88241625, 0.3677364 , 0.8454586 , 0.41678628, 0.12353604,\n",
       "       0.358242  , 0.68609846, 0.4122491 , 0.53500694, 0.8286768 ,\n",
       "       0.5153037 , 0.6476279 , 0.60792714, 0.68498   , 0.1507953 ,\n",
       "       0.06161552, 0.649481  , 0.92346513, 0.37631765, 0.32190898,\n",
       "       0.69754404, 0.6521351 ], dtype=float32)"
      ]
     },
     "execution_count": 68,
     "metadata": {},
     "output_type": "execute_result"
    }
   ],
   "source": [
    "# show a few samples of susceptibility\n",
    "np.random.choice(susceptibility,32, replace=False)"
   ]
  },
  {
   "cell_type": "code",
   "execution_count": 76,
   "metadata": {},
   "outputs": [
    {
     "name": "stdout",
     "output_type": "stream",
     "text": [
      "Contagion:    0.125, Probability: 0.000000125, Visits:   0.062 ±  0.25    mean sus.: 0.5, eff. prob.: 0.000000063\n",
      "Contagion:    0.250, Probability: 0.000000250, Visits:   0.124 ±  0.35    mean sus.: 0.5, eff. prob.: 0.000000125\n",
      "Contagion:    0.500, Probability: 0.000000500, Visits:   0.247 ±  0.50    mean sus.: 0.5, eff. prob.: 0.000000250\n",
      "Contagion:    1.000, Probability: 0.000001000, Visits:   0.499 ±  0.71    mean sus.: 0.5, eff. prob.: 0.000000500\n",
      "Contagion:    2.000, Probability: 0.000002000, Visits:   0.999 ±  1.00    mean sus.: 0.5, eff. prob.: 0.000001000\n",
      "Contagion:    4.000, Probability: 0.000004000, Visits:   2.000 ±  1.42    mean sus.: 0.5, eff. prob.: 0.000002001\n",
      "Contagion:    8.000, Probability: 0.000008000, Visits:   3.997 ±  2.00    mean sus.: 0.5, eff. prob.: 0.000004001\n",
      "Contagion:   16.000, Probability: 0.000016000, Visits:   7.999 ±  2.82    mean sus.: 0.5, eff. prob.: 0.000008002\n",
      "Contagion:   32.000, Probability: 0.000032000, Visits:  16.017 ±  4.01    mean sus.: 0.5, eff. prob.: 0.000016004\n",
      "Contagion:   64.000, Probability: 0.000064000, Visits:  31.996 ±  5.66    mean sus.: 0.5, eff. prob.: 0.000032008\n",
      "Contagion:  128.000, Probability: 0.000128000, Visits:  64.029 ±  8.01    mean sus.: 0.5, eff. prob.: 0.000064016\n",
      "Contagion:  256.000, Probability: 0.000256000, Visits: 127.971 ± 11.25    mean sus.: 0.5, eff. prob.: 0.000128033\n"
     ]
    }
   ],
   "source": [
    "for contagion in [0.125, 0.25, 0.5, 1.0, 2.0, 4.0, 8.0, 16.0, 32.0, 64.0, 128.0, 256.0]:\n",
    "    probability = contagion / susceptibility.shape[0]\n",
    "    tries = 100_000\n",
    "    visits = np.zeros(tries, dtype=np.uint32)\n",
    "    for i in range(tries):\n",
    "        visits[i] = visit(susceptibility, probability)\n",
    "    print(f\"Contagion: {contagion:>8.3f}, Probability: {probability:>11.9f}, Visits: {visits.mean():>7.3f} ± {visits.std():5.2f}    \", end=\"\")\n",
    "    print(f\"mean sus.: {susceptibility.mean():3.2}, eff. prob.: {(np.float64(probability)*susceptibility.mean()):>11.9f}\")"
   ]
  }
 ],
 "metadata": {
  "kernelspec": {
   "display_name": "Python 3",
   "language": "python",
   "name": "python3"
  },
  "language_info": {
   "codemirror_mode": {
    "name": "ipython",
    "version": 3
   },
   "file_extension": ".py",
   "mimetype": "text/x-python",
   "name": "python",
   "nbconvert_exporter": "python",
   "pygments_lexer": "ipython3",
   "version": "3.10.13"
  }
 },
 "nbformat": 4,
 "nbformat_minor": 2
}
