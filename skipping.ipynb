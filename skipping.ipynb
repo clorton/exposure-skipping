{
 "cells": [
  {
   "cell_type": "markdown",
   "metadata": {},
   "source": [
    "# EMOD Pseudocode\n",
    "\n",
    "_Indented_ code under commented out functions is the pseudocode for the function. E.g., `updateInfectivity(dt)` calls `computeMaxInfectionProb(dt)` and `gap = calcGap()`.\n",
    "\n",
    "```cpp\n",
    "void Node::Update(float dt) {\n",
    "    ...\n",
    "    // updateInfectivity(dt);\n",
    "        // computeMaxInfectionProb( dt );\n",
    "            ProbabilityNumber prob = EXPCDF(-contagion * dt);\n",
    "            gap = 1;           // default to visiting every individual\n",
    "            bSkipping = false; // default to visiting (!skipping) every individual\n",
    "        // gap = calcGap();\n",
    "            int gap = 1;\n",
    "            float maxProb = prob;\n",
    "            if (maxProb >= 1.0) {\n",
    "                gap = 1;\n",
    "            }\n",
    "            else if (maxProb > 0.0) {\n",
    "                // geometric based on maxProb\n",
    "                gap = int(ceil(log(1.0 - GetRng()->e()) / log(1.0 - maxProb)));\t\n",
    "\n",
    "    ...\n",
    "    for (int i = 0; i < individualHumans.size(); ++i ) {\n",
    "    \t// PreUpdate();\n",
    "            if (gap == 1) {\n",
    "                bSkipping = false;  // visit this individual\n",
    "                gap = calcGap();    // update gap (see above)\n",
    "            }\n",
    "            else {\n",
    "                bSkipping = true;   // skip this individual\n",
    "                --gap;              // decrement gap counter\n",
    "            }\n",
    "        // individualHumans[i]->Update(...);\n",
    "            // ExposeToInfectivity(...);\n",
    "                // parent->ExposeIndividual(...);\n",
    "                    if (!bSkipping) {\n",
    "                        // transmissionGroups->ExposeToContagion(...);\n",
    "                            // candidate->Expose(...);\n",
    "                                auto indProb = -cp->GetTotalContagion() * dt;\n",
    "                                indProb *= susceptibility->getModAcquire();\n",
    "                                indProb *= susceptibility->getModRisk();\n",
    "                                indProb *= interventions->GetInterventionReducedAcquire(...);\n",
    "                                indProb = EXPCDF(indProb);\n",
    "                                bool acquire = false;\n",
    "                                float maxProb = parent->GetMaxInfectionProb(...);\n",
    "                                if (maxProb > 0) {\n",
    "                                    // if individual is maximally susceptible\n",
    "                                    if (maxProb == prob) {\n",
    "                                        acquire = true;\n",
    "                                    }\n",
    "                                    // if individual is _not_ maximally susceptible\n",
    "                                    else if (prob/maxProb > GetRng()->e()) {\n",
    "                                        acquire = true;\n",
    "                                    }\n",
    "                                }\n",
    "                    }\n",
    "    }\n",
    "    ...\n",
    "}\n",
    "\n",
    "#define EXPCDF(x)   (1 - exp(x))\n",
    "```"
   ]
  },
  {
   "cell_type": "code",
   "execution_count": null,
   "metadata": {},
   "outputs": [],
   "source": [
    "%pip install numba"
   ]
  },
  {
   "cell_type": "code",
   "execution_count": 1,
   "metadata": {},
   "outputs": [],
   "source": [
    "import numpy as np\n",
    "import numba as nb"
   ]
  },
  {
   "cell_type": "code",
   "execution_count": 3,
   "metadata": {},
   "outputs": [],
   "source": [
    "@nb.njit()\n",
    "def skip(probability: np.float32) -> np.uint32:\n",
    "    n = np.uint32(np.ceil(np.log(1.0-np.random.rand())/np.log(1.0-probability))) if probability < 1.0 else np.uint32(1)\n",
    "    return n"
   ]
  },
  {
   "cell_type": "code",
   "execution_count": 27,
   "metadata": {},
   "outputs": [],
   "source": [
    "@nb.njit()\n",
    "def visit(susceptibility: np.ndarray, probability: np.float32) -> np.uint32:\n",
    "    visited = 0\n",
    "    index = skip(probability) - 1\n",
    "    while (index >= 0) and (index < len(susceptibility)):\n",
    "        if susceptibility[index] == 1.0:\n",
    "            visited += 1\n",
    "        elif np.random.rand() < susceptibility[index]:\n",
    "            visited += 1\n",
    "        index += skip(probability)\n",
    "    return visited"
   ]
  },
  {
   "cell_type": "code",
   "execution_count": 64,
   "metadata": {},
   "outputs": [],
   "source": [
    "susceptibility = np.ones(1_000_000, dtype=np.float32)"
   ]
  },
  {
   "cell_type": "code",
   "execution_count": 65,
   "metadata": {},
   "outputs": [],
   "source": [
    "# randomize susceptibility uniformly between 0 and 1\n",
    "susceptibility *= np.random.uniform(0.0, 1.0, size=susceptibility.shape)"
   ]
  },
  {
   "cell_type": "code",
   "execution_count": null,
   "metadata": {},
   "outputs": [
    {
     "data": {
      "text/plain": [
       "array([0.99719566, 0.8540871 , 0.10468864, 0.35516334, 0.42941552,\n",
       "       0.7124959 , 0.58953863, 0.72594905, 0.4248593 , 0.9042252 ,\n",
       "       0.56570256, 0.6228677 , 0.11523604, 0.13943467, 0.02241728,\n",
       "       0.32916895, 0.95228964, 0.6738025 , 0.77935255, 0.1789487 ,\n",
       "       0.01528036, 0.23065953, 0.00682879, 0.58484095, 0.18699397,\n",
       "       0.5571306 , 0.91140044, 0.9502877 , 0.5744521 , 0.34150472,\n",
       "       0.23320895, 0.54531837], dtype=float32)"
      ]
     },
     "metadata": {},
     "output_type": "display_data"
    }
   ],
   "source": [
    "susceptibility[0:32]"
   ]
  },
  {
   "cell_type": "code",
   "execution_count": 66,
   "metadata": {},
   "outputs": [
    {
     "name": "stdout",
     "output_type": "stream",
     "text": [
      "Contagion:     1, Probability: 0.000001, Visits:   0.50 ±  0.71 mean sus.: 0.5, eff. prob.: 0.000001\n",
      "Contagion:     2, Probability: 0.000002, Visits:   1.00 ±  1.00 mean sus.: 0.5, eff. prob.: 0.000001\n",
      "Contagion:     4, Probability: 0.000004, Visits:   2.01 ±  1.42 mean sus.: 0.5, eff. prob.: 0.000002\n",
      "Contagion:     8, Probability: 0.000008, Visits:   4.01 ±  2.00 mean sus.: 0.5, eff. prob.: 0.000004\n",
      "Contagion:    16, Probability: 0.000016, Visits:   8.01 ±  2.84 mean sus.: 0.5, eff. prob.: 0.000008\n",
      "Contagion:    32, Probability: 0.000032, Visits:  15.99 ±  4.00 mean sus.: 0.5, eff. prob.: 0.000016\n",
      "Contagion:    64, Probability: 0.000064, Visits:  32.04 ±  5.65 mean sus.: 0.5, eff. prob.: 0.000032\n",
      "Contagion:   128, Probability: 0.000128, Visits:  64.04 ±  8.02 mean sus.: 0.5, eff. prob.: 0.000064\n",
      "Contagion:   256, Probability: 0.000256, Visits: 128.07 ± 11.34 mean sus.: 0.5, eff. prob.: 0.000128\n"
     ]
    }
   ],
   "source": [
    "for contagion in [1.0, 2.0, 4.0, 8.0, 16.0, 32.0, 64.0, 128.0, 256.0]:\n",
    "    probability = contagion / susceptibility.shape[0]\n",
    "    tries = 100_000\n",
    "    visits = np.zeros(tries, dtype=np.uint32)\n",
    "    for i in range(tries):\n",
    "        visits[i] = visit(susceptibility, probability)\n",
    "    print(f\"Contagion: {contagion:>5.0f}, Probability: {probability:>6f}, Visits: {visits.mean():>6.2f} ± {visits.std():5.2f} \", end=\"\")\n",
    "    print(f\"mean sus.: {susceptibility.mean():3.2}, eff. prob.: {probability*(susceptibility.mean()):>6f}\")"
   ]
  }
 ],
 "metadata": {
  "kernelspec": {
   "display_name": "Python 3",
   "language": "python",
   "name": "python3"
  },
  "language_info": {
   "codemirror_mode": {
    "name": "ipython",
    "version": 3
   },
   "file_extension": ".py",
   "mimetype": "text/x-python",
   "name": "python",
   "nbconvert_exporter": "python",
   "pygments_lexer": "ipython3",
   "version": "3.10.13"
  }
 },
 "nbformat": 4,
 "nbformat_minor": 2
}
